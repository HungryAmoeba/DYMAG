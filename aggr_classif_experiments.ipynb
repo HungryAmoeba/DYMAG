{
 "cells": [
  {
   "cell_type": "code",
   "execution_count": 10,
   "metadata": {},
   "outputs": [],
   "source": [
    "import numpy as np\n",
    "import pandas as pd\n",
    "import os"
   ]
  },
  {
   "cell_type": "code",
   "execution_count": 8,
   "metadata": {},
   "outputs": [
    {
     "name": "stdout",
     "output_type": "stream",
     "text": [
      "train_loss               0.441026\n",
      "train_accuracy           0.845000\n",
      "validation_loss          1.182600\n",
      "validation_accuracy      0.815000\n",
      "training_time          551.128436\n",
      "dtype: float64\n",
      "train_loss             0.246570\n",
      "train_accuracy         0.095888\n",
      "validation_loss        1.680288\n",
      "validation_accuracy    0.168956\n",
      "training_time          4.016355\n",
      "dtype: float64\n"
     ]
    }
   ],
   "source": [
    "res_path = 'results/ENZYMES/1.csv'\n",
    "res_df = pd.read_csv(res_path)\n",
    "means = res_df.iloc[:, 1:].mean()\n",
    "stds = res_df.iloc[:, 1:].std()\n",
    "print(means)\n",
    "print(stds)"
   ]
  },
  {
   "cell_type": "code",
   "execution_count": 37,
   "metadata": {},
   "outputs": [],
   "source": [
    "import pandas as pd\n",
    "import os\n",
    "\n",
    "# Initialize a list to store the results\n",
    "results = []\n",
    "\n",
    "# Loop over all csv files in the directory and its subdirectories\n",
    "for root, dirs, files in os.walk('results/'):\n",
    "    for file in files:\n",
    "        if file.endswith('.csv'):\n",
    "            # Read the csv file\n",
    "            res_path = os.path.join(root, file)\n",
    "            res_df = pd.read_csv(res_path)\n",
    "\n",
    "            # Calculate the mean and standard deviation\n",
    "            means = res_df.iloc[:, 1:].mean()\n",
    "            stds = res_df.iloc[:, 1:].std()\n",
    "\n",
    "            # Prepare the result dictionary\n",
    "            result = {'config_id': int(file.rstrip('.csv'))}  # remove '.csv' from the file name\n",
    "            \n",
    "            # Append each mean and std as a new column\n",
    "            for column in res_df.columns[1:]:\n",
    "                result[column + '_mean'] = means[column]\n",
    "                result[column + '_std'] = stds[column]\n",
    "                        \n",
    "            # Append the result to the list\n",
    "            results.append(result)\n",
    "\n",
    "            # # Append the results to the list\n",
    "            # results.append({\n",
    "            #     'config_id': file.rstrip('.csv'),  # remove '.csv' from the file name\n",
    "            #     'train_accuracy': f\"{means['train_accuracy']:.3f}({stds['train_accuracy']:.3f})\",\n",
    "            #     'validation_accuracy': f\"{means['validation_accuracy']:.3f}({stds['validation_accuracy']:.3f})\"\n",
    "            # })\n",
    "\n",
    "# Convert the results to a DataFrame\n",
    "results_df = pd.DataFrame(results).set_index('config_id')"
   ]
  },
  {
   "cell_type": "code",
   "execution_count": 38,
   "metadata": {},
   "outputs": [],
   "source": [
    "import yaml\n",
    "import pandas as pd\n",
    "import os\n",
    "\n",
    "# Initialize a list to store the results\n",
    "results = []\n",
    "\n",
    "# Loop over all yaml files in the directory\n",
    "for file in os.listdir('results/'):\n",
    "    if file.endswith('.yml'):\n",
    "        # Read the yaml file\n",
    "        res_path = os.path.join('results/', file)\n",
    "        with open(res_path, 'r') as stream:\n",
    "            try:\n",
    "                # Parse the yaml file\n",
    "                yaml_content = yaml.safe_load(stream)\n",
    "                                \n",
    "                # Append the yaml content to the list\n",
    "                results.append(yaml_content)\n",
    "            except yaml.YAMLError as exc:\n",
    "                print(exc)\n",
    "\n",
    "# Convert the results to a DataFrame\n",
    "config_df = pd.DataFrame(results).set_index('config_id')\n",
    "\n"
   ]
  },
  {
   "cell_type": "code",
   "execution_count": 41,
   "metadata": {},
   "outputs": [],
   "source": [
    "res_config_df = results_df.join(config_df, how='inner')"
   ]
  },
  {
   "cell_type": "code",
   "execution_count": 57,
   "metadata": {},
   "outputs": [],
   "source": [
    "res_config_df.to_csv('results/aggr_all.csv')"
   ]
  },
  {
   "cell_type": "code",
   "execution_count": 54,
   "metadata": {},
   "outputs": [],
   "source": [
    "output_df = res_config_df[['data', 'pde_type']].copy()\n",
    "# List of columns to format\n",
    "columns_to_format = [ 'train_accuracy', 'validation_accuracy', 'training_time']\n",
    "\n",
    "# Iterate through the columns and format them\n",
    "for column in columns_to_format:\n",
    "    output_df[column] = res_config_df[column + '_mean'].map(\"{:.3f}\".format) + \"(\" + res_config_df[column + '_std'].map(\"{:.3f}\".format) + \")\""
   ]
  },
  {
   "cell_type": "code",
   "execution_count": 58,
   "metadata": {},
   "outputs": [],
   "source": [
    "output_df.to_csv(\"results/aggr_output.csv\")"
   ]
  },
  {
   "cell_type": "code",
   "execution_count": 61,
   "metadata": {},
   "outputs": [],
   "source": [
    "# Convert the DataFrame to a LaTeX table\n",
    "latex_table = output_df.to_latex(index=False)"
   ]
  },
  {
   "cell_type": "code",
   "execution_count": 63,
   "metadata": {},
   "outputs": [
    {
     "name": "stdout",
     "output_type": "stream",
     "text": [
      "\\begin{tabular}{lllll}\n",
      "\\toprule\n",
      "    data & pde\\_type & train\\_accuracy & validation\\_accuracy &    training\\_time \\\\\n",
      " ENZYMES &     heat &   0.845(0.096) &        0.815(0.169) &   551.128(4.016) \\\\\n",
      "\\midrule\n",
      " ENZYMES &     wave &   0.799(0.140) &        0.785(0.214) &   399.866(2.948) \\\\\n",
      "PROTEINS &     heat &   0.791(0.022) &        0.536(0.040) & 1045.004(13.007) \\\\\n",
      "PROTEINS &     wave &   0.779(0.024) &        0.705(0.072) &  857.061(11.078) \\\\\n",
      "   MUTAG &     wave &   0.869(0.040) &        0.830(0.073) &   590.860(2.783) \\\\\n",
      "   MUTAG &     heat &   0.864(0.032) &        0.787(0.094) &   218.688(0.732) \\\\\n",
      "\\bottomrule\n",
      "\\end{tabular}\n",
      "\n"
     ]
    }
   ],
   "source": [
    "print(latex_table)"
   ]
  },
  {
   "cell_type": "code",
   "execution_count": null,
   "metadata": {},
   "outputs": [],
   "source": []
  }
 ],
 "metadata": {
  "kernelspec": {
   "display_name": "pyg",
   "language": "python",
   "name": "python3"
  },
  "language_info": {
   "codemirror_mode": {
    "name": "ipython",
    "version": 3
   },
   "file_extension": ".py",
   "mimetype": "text/x-python",
   "name": "python",
   "nbconvert_exporter": "python",
   "pygments_lexer": "ipython3",
   "version": "3.9.16"
  },
  "orig_nbformat": 4
 },
 "nbformat": 4,
 "nbformat_minor": 2
}
