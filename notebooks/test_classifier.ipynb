{
 "cells": [
  {
   "cell_type": "code",
   "execution_count": 1,
   "metadata": {},
   "outputs": [],
   "source": [
    "import torch\n",
    "from torch_geometric.datasets import TUDataset\n",
    "from torch_geometric.data import Data\n",
    "from torch_geometric.loader import DataLoader\n",
    "from torch.utils.data import random_split\n",
    "\n",
    "# Load the dataset\n",
    "dataset_name = \"ENZYMES\"\n",
    "path = \"./data/tmp/ENZYMES\"\n",
    "original_dataset = TUDataset(root=path, name=dataset_name, use_node_attr=True)\n",
    "\n",
    "# Function to add equal edge weights to a graph\n",
    "def add_edge_weights(data):\n",
    "    edge_index = data.edge_index\n",
    "    edge_weight = torch.ones(edge_index.shape[1], dtype=torch.float)\n",
    "    return Data(edge_index=edge_index, x=data.x, y=data.y, edge_weight=edge_weight)\n",
    "\n",
    "# Create a new dataset with added edge weights\n",
    "dataset = [add_edge_weights(data) for data in original_dataset]\n",
    "\n",
    "# Split the dataset into train and test sets\n",
    "train_size = int(0.8 * len(dataset))  # 80% of the dataset for training\n",
    "test_size = len(dataset) - train_size\n",
    "\n",
    "train_dataset, test_dataset = random_split(dataset, [train_size, test_size])\n",
    "\n",
    "# Create DataLoaders for train and test sets\n",
    "train_loader = DataLoader(train_dataset, batch_size=32, shuffle=True)\n",
    "test_loader = DataLoader(test_dataset, batch_size=32, shuffle=False)"
   ]
  },
  {
   "cell_type": "code",
   "execution_count": 2,
   "metadata": {},
   "outputs": [],
   "source": [
    "n_input = dataset[0].x.size(1)"
   ]
  },
  {
   "cell_type": "code",
   "execution_count": 3,
   "metadata": {},
   "outputs": [
    {
     "name": "stdout",
     "output_type": "stream",
     "text": [
      "Epoch 1/1000, Loss: 2.6021, Accuracy: 0.1625\n",
      "Epoch 101/1000, Loss: 1.5910, Accuracy: 0.3729\n",
      "Epoch 201/1000, Loss: 1.4056, Accuracy: 0.4417\n",
      "Epoch 301/1000, Loss: 1.2514, Accuracy: 0.5167\n",
      "Epoch 401/1000, Loss: 1.1314, Accuracy: 0.5854\n",
      "Epoch 501/1000, Loss: 1.0771, Accuracy: 0.5958\n",
      "Epoch 601/1000, Loss: 0.9988, Accuracy: 0.6354\n",
      "Epoch 701/1000, Loss: 0.9656, Accuracy: 0.6458\n",
      "Epoch 801/1000, Loss: 0.9325, Accuracy: 0.6646\n",
      "Epoch 901/1000, Loss: 0.9079, Accuracy: 0.6896\n",
      "Test accuracy: 44.17%\n"
     ]
    }
   ],
   "source": [
    "from experiments.classifier import GraphClassifierTimeConv\n",
    "from experiments.train import train, test\n",
    "from torch.optim import Adam\n",
    "\n",
    "# Set the device to use for training (either 'cpu' or 'cuda' if GPU is available)\n",
    "device = torch.device('cuda' if torch.cuda.is_available() else 'cpu')\n",
    "\n",
    "ts = torch.linspace(0, 1, 20, dtype=torch.float, device=device)\n",
    "# Create your model, optimizer, and criterion\n",
    "model = GraphClassifierTimeConv(pde='heat', ts=ts, n_input=n_input, n_hidden=16, n_output=6, n_time_conv=5, n_time_pool=5, device=device).to(device)\n",
    "optimizer = Adam(model.parameters(), lr=1e-3)\n",
    "# criterion = CrossEntropyLoss()\n",
    "criterion = torch.nn.NLLLoss()\n",
    "\n",
    "# Train the model\n",
    "train(model, train_loader, optimizer, criterion, device, num_epochs=1000)\n",
    "test(model, test_loader, device)"
   ]
  },
  {
   "cell_type": "code",
   "execution_count": 4,
   "metadata": {},
   "outputs": [
    {
     "name": "stdout",
     "output_type": "stream",
     "text": [
      "Epoch 1/1000, Loss: 6.7375, Accuracy: 0.1938\n",
      "Epoch 101/1000, Loss: 1.5641, Accuracy: 0.3625\n",
      "Epoch 201/1000, Loss: 1.3735, Accuracy: 0.4625\n",
      "Epoch 301/1000, Loss: 1.2545, Accuracy: 0.5312\n",
      "Epoch 401/1000, Loss: 1.1836, Accuracy: 0.5604\n",
      "Epoch 501/1000, Loss: 1.1406, Accuracy: 0.5729\n",
      "Epoch 601/1000, Loss: 1.0924, Accuracy: 0.6083\n",
      "Epoch 701/1000, Loss: 1.0586, Accuracy: 0.6229\n",
      "Epoch 801/1000, Loss: 1.0665, Accuracy: 0.5917\n",
      "Epoch 901/1000, Loss: 0.9978, Accuracy: 0.6438\n",
      "Test accuracy: 51.67%\n"
     ]
    }
   ],
   "source": [
    "\n",
    "ts = torch.linspace(torch.pi/2, torch.pi, 20, dtype=torch.float, device=device)\n",
    "# Create your model, optimizer, and criterion\n",
    "model = GraphClassifierTimeConv(pde='wave', ts=ts, n_input=n_input, n_hidden=16, n_output=6, n_time_conv=5, n_time_pool=5, device=device).to(device)\n",
    "optimizer = Adam(model.parameters(), lr=1e-3)\n",
    "# criterion = CrossEntropyLoss()\n",
    "criterion = torch.nn.NLLLoss()\n",
    "\n",
    "# Train the model\n",
    "train(model, train_loader, optimizer, criterion, device, num_epochs=1000)\n",
    "test(model, test_loader, device)"
   ]
  },
  {
   "cell_type": "code",
   "execution_count": 6,
   "metadata": {},
   "outputs": [
    {
     "name": "stdout",
     "output_type": "stream",
     "text": [
      "Epoch 1/1000, Loss: 4.5859, Accuracy: 0.1271\n",
      "Epoch 101/1000, Loss: 1.6818, Accuracy: 0.2604\n",
      "Epoch 201/1000, Loss: 1.6444, Accuracy: 0.2729\n",
      "Epoch 301/1000, Loss: 1.6008, Accuracy: 0.3354\n",
      "Epoch 401/1000, Loss: 1.5754, Accuracy: 0.3521\n",
      "Epoch 501/1000, Loss: 1.5440, Accuracy: 0.3667\n",
      "Epoch 601/1000, Loss: 1.5224, Accuracy: 0.3896\n",
      "Epoch 701/1000, Loss: 1.5103, Accuracy: 0.3729\n",
      "Epoch 801/1000, Loss: 1.4860, Accuracy: 0.3937\n",
      "Epoch 901/1000, Loss: 1.4636, Accuracy: 0.4167\n",
      "Test accuracy: 35.00%\n"
     ]
    }
   ],
   "source": [
    "from experiments.gcn import GCNClassifier\n",
    "# Create your model, optimizer, and criterion\n",
    "model = GCNClassifier(num_features=n_input, hidden_channels=16, num_classes=6)\n",
    "optimizer = Adam(model.parameters(), lr=1e-3)\n",
    "# criterion = CrossEntropyLoss()\n",
    "criterion = torch.nn.NLLLoss()\n",
    "\n",
    "# Train the model\n",
    "train(model, train_loader, optimizer, criterion, device, num_epochs=1000)\n",
    "test(model, test_loader, device)"
   ]
  },
  {
   "cell_type": "code",
   "execution_count": null,
   "metadata": {},
   "outputs": [],
   "source": []
  }
 ],
 "metadata": {
  "kernelspec": {
   "display_name": "pyg",
   "language": "python",
   "name": "python3"
  },
  "language_info": {
   "codemirror_mode": {
    "name": "ipython",
    "version": 3
   },
   "file_extension": ".py",
   "mimetype": "text/x-python",
   "name": "python",
   "nbconvert_exporter": "python",
   "pygments_lexer": "ipython3",
   "version": "3.9.16"
  },
  "orig_nbformat": 4
 },
 "nbformat": 4,
 "nbformat_minor": 2
}
