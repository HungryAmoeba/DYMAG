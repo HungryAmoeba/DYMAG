{
 "cells": [
  {
   "cell_type": "code",
   "execution_count": 1,
   "metadata": {},
   "outputs": [],
   "source": [
    "import torch\n",
    "from experiments.sol_propagator import PDESolutionPropogator\n",
    "from experiments.eqn_sol import *\n",
    "device = torch.device(\"cuda:0\" if torch.cuda.is_available() else \"cpu\")"
   ]
  },
  {
   "attachments": {},
   "cell_type": "markdown",
   "metadata": {},
   "source": [
    "## test propogateHeat"
   ]
  },
  {
   "cell_type": "code",
   "execution_count": 7,
   "metadata": {},
   "outputs": [
    {
     "data": {
      "text/plain": [
       "6.013613600974743e-07"
      ]
     },
     "execution_count": 7,
     "metadata": {},
     "output_type": "execute_result"
    }
   ],
   "source": [
    "x = torch.rand(10, 20, 4, dtype=torch.float).to(device)\n",
    "A = scipy.sparse.random(10, 10, density=0.1, format='csc', dtype=np.float32)\n",
    "A = A + A.T\n",
    "A = A.toarray()\n",
    "A = A + np.diag(np.ones(A.shape[0]))\n",
    "d = A.sum(axis=0)\n",
    "D = np.diag(d)\n",
    "Dinvhf = np.diag(1/np.sqrt(d))\n",
    "laplacian = Dinvhf @ (D - A) @ Dinvhf\n",
    "\n",
    "sol = HeatEqnSolSparseExpm(laplacian, device).to(device)\n",
    "y1 = sol(x, 3)\n",
    "\n",
    "oper = PDESolutionPropogator(laplacian, device, eps=1e-5)\n",
    "y2 = oper.propogateHeat(x, torch.linspace(3, 4, 13))\n",
    "\n",
    "torch.abs(y1 - y2[0]).max().item()"
   ]
  },
  {
   "attachments": {},
   "cell_type": "markdown",
   "metadata": {},
   "source": [
    "## test propogateWave"
   ]
  },
  {
   "cell_type": "code",
   "execution_count": 8,
   "metadata": {},
   "outputs": [
    {
     "data": {
      "text/plain": [
       "4.76837158203125e-07"
      ]
     },
     "execution_count": 8,
     "metadata": {},
     "output_type": "execute_result"
    }
   ],
   "source": [
    "sol = WaveEqnSol(laplacian, device, eps=1e-5).to(device)\n",
    "y1 = sol(x, x, 4.)\n",
    "\n",
    "y2 = oper.propogateWave(x, x, torch.linspace(4, 5, 13))\n",
    "\n",
    "torch.abs(y1 - y2[0]).max().item()"
   ]
  },
  {
   "cell_type": "code",
   "execution_count": null,
   "metadata": {},
   "outputs": [],
   "source": []
  }
 ],
 "metadata": {
  "kernelspec": {
   "display_name": "pyg",
   "language": "python",
   "name": "python3"
  },
  "language_info": {
   "codemirror_mode": {
    "name": "ipython",
    "version": 3
   },
   "file_extension": ".py",
   "mimetype": "text/x-python",
   "name": "python",
   "nbconvert_exporter": "python",
   "pygments_lexer": "ipython3",
   "version": "3.9.16"
  },
  "orig_nbformat": 4
 },
 "nbformat": 4,
 "nbformat_minor": 2
}
