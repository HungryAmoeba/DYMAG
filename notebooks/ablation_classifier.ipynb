{
 "cells": [
  {
   "cell_type": "code",
   "execution_count": 6,
   "metadata": {},
   "outputs": [],
   "source": [
    "import torch\n",
    "from torch_geometric.datasets import TUDataset\n",
    "from torch_geometric.data import Data\n",
    "from torch_geometric.loader import DataLoader\n",
    "from torch.utils.data import random_split\n",
    "from experiments.classifier import GraphClassifier\n",
    "from experiments.train import train, test\n",
    "from torch.optim import Adam\n",
    "\n",
    "# Load the dataset\n",
    "dataset_name = \"ENZYMES\"\n",
    "path = \"./data/tmp/ENZYMES\"\n",
    "original_dataset = TUDataset(root=path, name=dataset_name, use_node_attr=True)\n",
    "\n",
    "# Function to add equal edge weights to a graph\n",
    "def add_edge_weights(data):\n",
    "    edge_index = data.edge_index\n",
    "    edge_weight = torch.ones(edge_index.shape[1], dtype=torch.float)\n",
    "    return Data(edge_index=edge_index, x=data.x, y=data.y, edge_weight=edge_weight)\n",
    "\n",
    "# Create a new dataset with added edge weights\n",
    "dataset = [add_edge_weights(data) for data in original_dataset]\n",
    "\n",
    "# Split the dataset into train and test sets\n",
    "train_size = int(0.8 * len(dataset))  # 80% of the dataset for training\n",
    "test_size = len(dataset) - train_size\n",
    "\n",
    "train_dataset, test_dataset = random_split(dataset, [train_size, test_size])\n",
    "\n",
    "# Create DataLoaders for train and test sets\n",
    "train_loader = DataLoader(train_dataset, batch_size=2048, shuffle=True)\n",
    "test_loader = DataLoader(test_dataset, batch_size=2048, shuffle=False)\n",
    "\n",
    "n_input = dataset[0].x.size(1)\n",
    "\n",
    "# Set the device to use for training (either 'cpu' or 'cuda' if GPU is available)\n",
    "device = torch.device('cuda' if torch.cuda.is_available() else 'cpu')\n"
   ]
  },
  {
   "cell_type": "code",
   "execution_count": 7,
   "metadata": {},
   "outputs": [
    {
     "name": "stdout",
     "output_type": "stream",
     "text": [
      "Epoch 1/1000, Loss: 1.8461, Accuracy: 0.1667\n",
      "Epoch 101/1000, Loss: 1.4782, Accuracy: 0.4042\n"
     ]
    }
   ],
   "source": [
    "ts = torch.linspace(0, 1, 20, dtype=torch.float, device=device)\n",
    "# ts = torch.tensor([0.5], dtype=torch.float, device=device)\n",
    "# Create your model, optimizer, and criterion\n",
    "# model = GraphClassifier(pde='heat', ts=ts, n_input=n_input, n_hidden=16, n_output=6, n_time_conv=5, n_time_pool=5, device=device).to(device)\n",
    "model = GraphClassifier(pde='heat', ts=ts, n_input=n_input, n_hidden=16, n_output=6, device=device).to(device)\n",
    "optimizer = Adam(model.parameters(), lr=1e-3)\n",
    "# criterion = CrossEntropyLoss()\n",
    "criterion = torch.nn.NLLLoss()\n",
    "\n",
    "# Train the model\n",
    "train(model, train_loader, optimizer, criterion, device, num_epochs=1000)\n",
    "test(model, test_loader, device)"
   ]
  },
  {
   "cell_type": "code",
   "execution_count": null,
   "metadata": {},
   "outputs": [
    {
     "name": "stdout",
     "output_type": "stream",
     "text": [
      "Epoch 1/1000, Loss: 4.4857, Accuracy: 0.1333\n",
      "Epoch 101/1000, Loss: 1.7088, Accuracy: 0.2458\n",
      "Epoch 201/1000, Loss: 1.6597, Accuracy: 0.2917\n",
      "Epoch 301/1000, Loss: 1.6003, Accuracy: 0.3563\n",
      "Epoch 401/1000, Loss: 1.5220, Accuracy: 0.3875\n",
      "Epoch 501/1000, Loss: 1.4546, Accuracy: 0.4062\n",
      "Epoch 601/1000, Loss: 1.3712, Accuracy: 0.4417\n",
      "Epoch 701/1000, Loss: 1.3104, Accuracy: 0.4750\n",
      "Epoch 801/1000, Loss: 1.2253, Accuracy: 0.5229\n",
      "Epoch 901/1000, Loss: 1.2037, Accuracy: 0.5188\n",
      "Test accuracy: 46.67%\n"
     ]
    }
   ],
   "source": [
    "# ts = torch.linspace(torch.pi/2, torch.pi, 20, dtype=torch.float, device=device)\n",
    "ts = torch.tensor([torch.pi/2], dtype=torch.float, device=device)\n",
    "# Create your model, optimizer, and criterion\n",
    "# model = GraphClassifier(pde='wave', ts=ts, n_input=n_input, n_hidden=16, n_output=6, n_time_conv=5, n_time_pool=5, device=device).to(device)\n",
    "model = GraphClassifier(pde='wave', ts=ts, n_input=n_input, n_hidden=16, n_output=6, device=device).to(device)\n",
    "optimizer = Adam(model.parameters(), lr=1e-3)\n",
    "# criterion = CrossEntropyLoss()\n",
    "criterion = torch.nn.NLLLoss()\n",
    "\n",
    "# Train the model\n",
    "train(model, train_loader, optimizer, criterion, device, num_epochs=1000)\n",
    "test(model, test_loader, device)"
   ]
  },
  {
   "cell_type": "code",
   "execution_count": null,
   "metadata": {},
   "outputs": [
    {
     "name": "stdout",
     "output_type": "stream",
     "text": [
      "Epoch 1/1000, Loss: 5.0149, Accuracy: 0.1604\n",
      "Epoch 101/1000, Loss: 1.6880, Accuracy: 0.2687\n",
      "Epoch 201/1000, Loss: 1.6360, Accuracy: 0.3146\n",
      "Epoch 301/1000, Loss: 1.5634, Accuracy: 0.3563\n",
      "Epoch 401/1000, Loss: 1.4615, Accuracy: 0.3979\n",
      "Epoch 501/1000, Loss: 1.3975, Accuracy: 0.4458\n",
      "Epoch 601/1000, Loss: 1.3205, Accuracy: 0.4792\n",
      "Epoch 701/1000, Loss: 1.2762, Accuracy: 0.5104\n",
      "Epoch 801/1000, Loss: 1.1821, Accuracy: 0.5542\n",
      "Epoch 901/1000, Loss: 1.1445, Accuracy: 0.5708\n",
      "Test accuracy: 42.50%\n"
     ]
    }
   ],
   "source": [
    "from experiments.gcn import GCNClassifier\n",
    "# Create your model, optimizer, and criterion\n",
    "model = GCNClassifier(num_features=n_input, hidden_channels=16, num_classes=6)\n",
    "optimizer = Adam(model.parameters(), lr=1e-2)\n",
    "# criterion = CrossEntropyLoss()\n",
    "criterion = torch.nn.NLLLoss()\n",
    "\n",
    "# Train the model\n",
    "train(model, train_loader, optimizer, criterion, device, num_epochs=1000)\n",
    "test(model, test_loader, device)"
   ]
  },
  {
   "cell_type": "code",
   "execution_count": null,
   "metadata": {},
   "outputs": [],
   "source": []
  }
 ],
 "metadata": {
  "kernelspec": {
   "display_name": "pyg",
   "language": "python",
   "name": "python3"
  },
  "language_info": {
   "codemirror_mode": {
    "name": "ipython",
    "version": 3
   },
   "file_extension": ".py",
   "mimetype": "text/x-python",
   "name": "python",
   "nbconvert_exporter": "python",
   "pygments_lexer": "ipython3",
   "version": "3.9.16"
  },
  "orig_nbformat": 4
 },
 "nbformat": 4,
 "nbformat_minor": 2
}
