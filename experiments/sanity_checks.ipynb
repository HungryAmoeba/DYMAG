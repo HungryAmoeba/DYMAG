{
 "cells": [
  {
   "cell_type": "code",
   "execution_count": 1,
   "metadata": {},
   "outputs": [],
   "source": [
    "import torch\n",
    "from eqn_sol import *\n",
    "import scipy.sparse\n",
    "from scipy.sparse.linalg import expm\n",
    "from torch_geometric.utils import from_scipy_sparse_matrix\n",
    "device = torch.device(\"cuda:0\" if torch.cuda.is_available() else \"cpu\")"
   ]
  },
  {
   "attachments": {},
   "cell_type": "markdown",
   "metadata": {},
   "source": [
    "## test PropogateSignal\n",
    "Note: The result is A.T @ x, not A @ x. (doesn't matter if we use symmetric laplacian)"
   ]
  },
  {
   "cell_type": "code",
   "execution_count": 2,
   "metadata": {},
   "outputs": [
    {
     "data": {
      "text/plain": [
       "tensor([[[True, True, True, True],\n",
       "         [True, True, True, True],\n",
       "         [True, True, True, True]],\n",
       "\n",
       "        [[True, True, True, True],\n",
       "         [True, True, True, True],\n",
       "         [True, True, True, True]],\n",
       "\n",
       "        [[True, True, True, True],\n",
       "         [True, True, True, True],\n",
       "         [True, True, True, True]],\n",
       "\n",
       "        [[True, True, True, True],\n",
       "         [True, True, True, True],\n",
       "         [True, True, True, True]],\n",
       "\n",
       "        [[True, True, True, True],\n",
       "         [True, True, True, True],\n",
       "         [True, True, True, True]]])"
      ]
     },
     "execution_count": 2,
     "metadata": {},
     "output_type": "execute_result"
    }
   ],
   "source": [
    "x = torch.rand(5, 3, 4)\n",
    "A = scipy.sparse.random(5, 5, density=0.1, format='csc')\n",
    "\n",
    "y1 = torch.tensor((A.T @ x.flatten(start_dim=1, end_dim=-1))).view(*x.size())\n",
    "\n",
    "propogator = PropogateSignal()\n",
    "edge_index, edge_weight = from_scipy_sparse_matrix(A)\n",
    "y2 = propogator(x, edge_index, edge_weight)\n",
    "\n",
    "y1 == y2"
   ]
  },
  {
   "cell_type": "code",
   "execution_count": 3,
   "metadata": {},
   "outputs": [
    {
     "data": {
      "text/plain": [
       "1.9418180730035317e-08"
      ]
     },
     "execution_count": 3,
     "metadata": {},
     "output_type": "execute_result"
    }
   ],
   "source": [
    "B = torch.tensor(A.toarray(), dtype=torch.float)\n",
    "edge_index, edge_weight = from_tensor(B)\n",
    "y3 = propogator(x, edge_index, edge_weight)\n",
    "\n",
    "torch.abs(y1 - y3).max().item()"
   ]
  },
  {
   "cell_type": "markdown",
   "metadata": {},
   "source": [
    "## test HeatEqnSol"
   ]
  },
  {
   "cell_type": "code",
   "execution_count": 4,
   "metadata": {},
   "outputs": [
    {
     "data": {
      "text/plain": [
       "9.5367431640625e-07"
      ]
     },
     "execution_count": 4,
     "metadata": {},
     "output_type": "execute_result"
    }
   ],
   "source": [
    "x = torch.rand(10, 20, 4, dtype=torch.float).to(device)\n",
    "A = scipy.sparse.random(10, 10, density=0.1, format='csc', dtype=np.float32)\n",
    "\n",
    "B = expm(- 3 * A)\n",
    "y1 = (torch.tensor(B.toarray(), dtype=torch.float).to(device).T @ x.flatten(start_dim=1, end_dim=-1)).view(*x.size())\n",
    "\n",
    "sol = HeatEqnSolSparseExpm(A, device).to(device)\n",
    "y2 = sol(x, 3)\n",
    "\n",
    "(y1 - y2).abs().max().item()"
   ]
  },
  {
   "cell_type": "markdown",
   "metadata": {},
   "source": [
    "## test WaveEqnSol"
   ]
  },
  {
   "cell_type": "code",
   "execution_count": 5,
   "metadata": {},
   "outputs": [],
   "source": [
    "x = torch.rand(10, 20, 4, dtype=torch.float).to(device)\n",
    "A = scipy.sparse.random(10, 10, density=0.1, format='csc', dtype=np.float32)\n",
    "A = A + A.T\n",
    "A = A.toarray()\n",
    "A = A + np.diag(np.ones(A.shape[0]))\n",
    "d = A.sum(axis=0)\n",
    "D = np.diag(d)\n",
    "Dinvhf = np.diag(1/np.sqrt(d))\n",
    "laplacian = Dinvhf @ (D - A) @ Dinvhf\n",
    "# Compute all eigenvalues and eigenvectors using eigsh\n",
    "laplacian = torch.tensor(laplacian, dtype=torch.float)\n",
    "\n",
    "sol = WaveEqnSol(laplacian, device, eps=1e-5).to(device)\n"
   ]
  },
  {
   "cell_type": "code",
   "execution_count": 6,
   "metadata": {},
   "outputs": [
    {
     "data": {
      "text/plain": [
       "1.7472812885444e-07"
      ]
     },
     "execution_count": 6,
     "metadata": {},
     "output_type": "execute_result"
    }
   ],
   "source": [
    "torch.abs(sol.V @ torch.diag(sol.sqrtlam ** 2) @ sol.V.T - laplacian.to(device)).max().item()"
   ]
  },
  {
   "cell_type": "code",
   "execution_count": 7,
   "metadata": {},
   "outputs": [],
   "source": [
    "y2 = sol(x, x, 4.)"
   ]
  }
 ],
 "metadata": {
  "kernelspec": {
   "display_name": "pyg",
   "language": "python",
   "name": "python3"
  },
  "language_info": {
   "codemirror_mode": {
    "name": "ipython",
    "version": 3
   },
   "file_extension": ".py",
   "mimetype": "text/x-python",
   "name": "python",
   "nbconvert_exporter": "python",
   "pygments_lexer": "ipython3",
   "version": "3.9.16"
  },
  "orig_nbformat": 4
 },
 "nbformat": 4,
 "nbformat_minor": 2
}
